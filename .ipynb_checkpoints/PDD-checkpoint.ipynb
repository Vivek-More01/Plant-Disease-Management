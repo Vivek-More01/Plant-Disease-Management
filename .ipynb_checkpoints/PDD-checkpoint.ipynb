{
 "cells": [
  {
   "cell_type": "code",
   "execution_count": null,
   "id": "dbd92bf9-6624-48fc-8718-35f732e481b7",
   "metadata": {},
   "outputs": [],
   "source": [
    "import tensorflow as tf\n",
    "import numpy as np\n",
    "import matplotlib as plt\n",
    "import os\n",
    "os.environ[\"KERAS_BACKEND\"] = \"tensorflow\"\n",
    "import keras\n",
    "\n",
    "# Load dataset"
   ]
  },
  {
   "cell_type": "code",
   "execution_count": null,
   "id": "b85a0422",
   "metadata": {},
   "outputs": [],
   "source": [
    "training_set = tf.keras.utils.image_dataset_from_directory(\n",
    "    \"train\",\n",
    "    labels=\"inferred\",\n",
    "    label_mode=\"categorical\",\n",
    "    class_names=None,\n",
    "    color_mode=\"rgb\",\n",
    "    batch_size=32,\n",
    "    image_size=(128, 128),\n",
    "    shuffle=True,\n",
    "    seed=None,\n",
    "    validation_split=None,\n",
    "    subset=None,\n",
    "    interpolation=\"bilinear\",\n",
    "    follow_links=False,\n",
    "    crop_to_aspect_ratio=False,\n",
    "    pad_to_aspect_ratio=False,\n",
    "    data_format=None,\n",
    "    verbose=True,\n",
    ")"
   ]
  },
  {
   "cell_type": "code",
   "execution_count": null,
   "id": "33d5650e",
   "metadata": {},
   "outputs": [],
   "source": [
    "validation_set = tf.keras.utils.image_dataset_from_directory(\n",
    "    \"valid\",\n",
    "    labels=\"inferred\",\n",
    "    label_mode=\"categorical\",\n",
    "    class_names=None,\n",
    "    color_mode=\"rgb\",\n",
    "    batch_size=32,\n",
    "    image_size=(128, 128),\n",
    "    shuffle=True,\n",
    "    seed=None,\n",
    "    validation_split=None,\n",
    "    subset=None,\n",
    "    interpolation=\"bilinear\",\n",
    "    follow_links=False,\n",
    "    crop_to_aspect_ratio=False,\n",
    "    pad_to_aspect_ratio=False,\n",
    "    data_format=None,\n",
    "    verbose=True,\n",
    ")"
   ]
  },
  {
   "cell_type": "code",
   "execution_count": null,
   "id": "f80635d3",
   "metadata": {},
   "outputs": [],
   "source": [
    "from tensorflow.keras.layers import Dense,Conv2D, MaxPool2D, Flatten, Dropout\n",
    "from tensorflow.keras.models import Sequential"
   ]
  },
  {
   "cell_type": "code",
   "execution_count": null,
   "id": "f86b4731",
   "metadata": {},
   "outputs": [],
   "source": [
    "model = Sequential()"
   ]
  },
  {
   "cell_type": "code",
   "execution_count": null,
   "id": "30715f8a",
   "metadata": {},
   "outputs": [],
   "source": [
    "model.add(Conv2D(filters = 32, kernel_size=3, padding='same', activation='relu',input_shape=[128,128,3] ))\n",
    "model.add(Conv2D(filters = 32, kernel_size=3, activation='relu'))\n",
    "model.add(MaxPool2D(pool_size=2,  strides=2))"
   ]
  },
  {
   "cell_type": "code",
   "execution_count": null,
   "id": "6cc64c03",
   "metadata": {},
   "outputs": [],
   "source": [
    "model.add(Conv2D(filters = 64, kernel_size=3, padding='same', activation='relu'))\n",
    "model.add(Conv2D(filters = 64, kernel_size=3, activation='relu'))\n",
    "model.add(MaxPool2D(pool_size=2,  strides=2))"
   ]
  },
  {
   "cell_type": "code",
   "execution_count": null,
   "id": "d830620c",
   "metadata": {},
   "outputs": [],
   "source": [
    "model.add(Conv2D(filters = 128, kernel_size=3, padding='same', activation='relu' ))\n",
    "model.add(Conv2D(filters = 128, kernel_size=3, activation='relu'))\n",
    "model.add(MaxPool2D(pool_size=2,  strides=2))"
   ]
  },
  {
   "cell_type": "code",
   "execution_count": null,
   "id": "1df65a4a",
   "metadata": {},
   "outputs": [],
   "source": [
    "model.add(Conv2D(filters = 256, kernel_size=3, padding='same', activation='relu' ))\n",
    "model.add(Conv2D(filters = 256, kernel_size=3, activation='relu'))\n",
    "model.add(MaxPool2D(pool_size=2,  strides=2))"
   ]
  },
  {
   "cell_type": "code",
   "execution_count": null,
   "id": "2336b70f",
   "metadata": {},
   "outputs": [],
   "source": [
    "model.add(Conv2D(filters = 512, kernel_size=3, padding='same', activation='relu'))\n",
    "model.add(Conv2D(filters = 512, kernel_size=3, activation='relu'))\n",
    "model.add(MaxPool2D(pool_size=2,  strides=2))"
   ]
  },
  {
   "cell_type": "code",
   "execution_count": null,
   "id": "3382ac91",
   "metadata": {},
   "outputs": [],
   "source": [
    "model.add(Dropout(0.25))"
   ]
  },
  {
   "cell_type": "code",
   "execution_count": null,
   "id": "c43eca4b",
   "metadata": {},
   "outputs": [],
   "source": [
    "model.add(Flatten())"
   ]
  },
  {
   "cell_type": "code",
   "execution_count": null,
   "id": "93c54dce",
   "metadata": {},
   "outputs": [],
   "source": [
    "model.add(Dense(activation='relu', units=1500))"
   ]
  },
  {
   "cell_type": "code",
   "execution_count": null,
   "id": "18ffacd4",
   "metadata": {},
   "outputs": [],
   "source": [
    "model.add(Dropout(0.4))"
   ]
  },
  {
   "cell_type": "code",
   "execution_count": null,
   "id": "a979ad81",
   "metadata": {},
   "outputs": [],
   "source": [
    "#Output layer\n",
    "\n",
    "model.add(Dense(activation='softmax', units=38))\n",
    "\n",
    "model.compile(optimizer=tf.keras.optimizers.Adam(\n",
    "    learning_rate=0.0001), loss='categorical_crossentropy', metrics=['accuracy'])\n",
    "\n",
    "model.summary()"
   ]
  },
  {
   "cell_type": "code",
   "execution_count": null,
   "id": "92221f44",
   "metadata": {},
   "outputs": [],
   "source": [
    "#Training Model"
   ]
  },
  {
   "cell_type": "code",
   "execution_count": 1,
   "id": "68b301bc",
   "metadata": {},
   "outputs": [
    {
     "ename": "NameError",
     "evalue": "name 'model' is not defined",
     "output_type": "error",
     "traceback": [
      "\u001b[1;31m---------------------------------------------------------------------------\u001b[0m",
      "\u001b[1;31mNameError\u001b[0m                                 Traceback (most recent call last)",
      "Cell \u001b[1;32mIn[1], line 1\u001b[0m\n\u001b[1;32m----> 1\u001b[0m training_history \u001b[38;5;241m=\u001b[39m \u001b[43mmodel\u001b[49m\u001b[38;5;241m.\u001b[39mfit(x\u001b[38;5;241m=\u001b[39m training_set, validation_data\u001b[38;5;241m=\u001b[39m  validation_set, epochs\u001b[38;5;241m=\u001b[39m\u001b[38;5;241m10\u001b[39m)\n",
      "\u001b[1;31mNameError\u001b[0m: name 'model' is not defined"
     ]
    }
   ],
   "source": [
    "training_history = model.fit(x= training_set, validation_data=  validation_set, epochs=10)"
   ]
  },
  {
   "cell_type": "code",
   "execution_count": null,
   "id": "6b78c892-b947-40da-8b8a-a46ff3616956",
   "metadata": {},
   "outputs": [],
   "source": []
  }
 ],
 "metadata": {
  "kernelspec": {
   "display_name": "Python 3 (ipykernel)",
   "language": "python",
   "name": "python3"
  },
  "language_info": {
   "codemirror_mode": {
    "name": "ipython",
    "version": 3
   },
   "file_extension": ".py",
   "mimetype": "text/x-python",
   "name": "python",
   "nbconvert_exporter": "python",
   "pygments_lexer": "ipython3",
   "version": "3.11.9"
  }
 },
 "nbformat": 4,
 "nbformat_minor": 5
}
